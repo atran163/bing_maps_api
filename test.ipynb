{
  "nbformat": 4,
  "nbformat_minor": 0,
  "metadata": {
    "kernelspec": {
      "display_name": "Python 3",
      "language": "python",
      "name": "python3"
    },
    "language_info": {
      "codemirror_mode": {
        "name": "ipython",
        "version": 3
      },
      "file_extension": ".py",
      "mimetype": "text/x-python",
      "name": "python",
      "nbconvert_exporter": "python",
      "pygments_lexer": "ipython3",
      "version": "3.6.8"
    },
    "colab": {
      "name": "DATA 301 Lab 5A - Amanda Tran & Sahil Bobba ",
      "provenance": [],
      "collapsed_sections": []
    }
  },
  "cells": [
    {
      "cell_type": "code",
      "metadata": {
        "id": "rZKmYn15f9qH",
        "colab_type": "code",
        "colab": {}
      },
      "source": [
        ""
      ],
      "execution_count": 0,
      "outputs": []
    },
    {
      "cell_type": "markdown",
      "metadata": {
        "id": "GJlfgcMDeZ4q",
        "colab_type": "text"
      },
      "source": [
        "# CityBikes Rest API\n",
        "\n",
        "This section asks you to fetch JSON data from the [CityBikes REST API](https://api.citybik.es/v2/) to answer some questions about bike share programs.\n",
        "\n",
        "Please be mindful not to send requests to the server more often than necessary. In particular, make sure you separate code that requests data from the server into a separate cell so that you do not have to repeatedly request data from the server. You will lose points if your requests are not separated into their own cell."
      ]
    },
    {
      "cell_type": "code",
      "metadata": {
        "id": "fWXg8-OPdTp0",
        "colab_type": "code",
        "outputId": "5c5471b4-6b81-4b0a-847f-158515233c29",
        "colab": {
          "base_uri": "https://localhost:8080/",
          "height": 125
        }
      },
      "source": [
        "from google.colab import drive\n",
        "drive.mount('/content/drive')"
      ],
      "execution_count": 0,
      "outputs": [
        {
          "output_type": "stream",
          "text": [
            "Go to this URL in a browser: https://accounts.google.com/o/oauth2/auth?client_id=947318989803-6bn6qk8qdgf4n4g3pfee6491hc0brc4i.apps.googleusercontent.com&redirect_uri=urn%3aietf%3awg%3aoauth%3a2.0%3aoob&response_type=code&scope=email%20https%3a%2f%2fwww.googleapis.com%2fauth%2fdocs.test%20https%3a%2f%2fwww.googleapis.com%2fauth%2fdrive%20https%3a%2f%2fwww.googleapis.com%2fauth%2fdrive.photos.readonly%20https%3a%2f%2fwww.googleapis.com%2fauth%2fpeopleapi.readonly\n",
            "\n",
            "Enter your authorization code:\n",
            "··········\n",
            "Mounted at /content/drive\n"
          ],
          "name": "stdout"
        }
      ]
    },
    {
      "cell_type": "code",
      "metadata": {
        "id": "C-vBUobBf24Y",
        "colab_type": "code",
        "colab": {}
      },
      "source": [
        "import json\n",
        "import pandas as pd\n",
        "from pandas.io.json import json_normalize"
      ],
      "execution_count": 0,
      "outputs": []
    },
    {
      "cell_type": "code",
      "metadata": {
        "id": "KVykkHL5aQhR",
        "colab_type": "code",
        "colab": {}
      },
      "source": [
        "import requests\n",
        "response = requests.get(\"http://api.citybik.es/v2/networks\")"
      ],
      "execution_count": 0,
      "outputs": []
    },
    {
      "cell_type": "code",
      "metadata": {
        "id": "0NJ9GUahubBM",
        "colab_type": "code",
        "colab": {}
      },
      "source": [
        "data = json.loads(response.text)\n",
        "df = json_normalize(data, \"networks\")"
      ],
      "execution_count": 0,
      "outputs": []
    },
    {
      "cell_type": "code",
      "metadata": {
        "id": "-b4QN0GTJ_6H",
        "colab_type": "code",
        "outputId": "8f2f4938-a635-43d3-e395-d86624ae93c5",
        "colab": {
          "base_uri": "https://localhost:8080/",
          "height": 576
        }
      },
      "source": [
        "df"
      ],
      "execution_count": 0,
      "outputs": [
        {
          "output_type": "execute_result",
          "data": {
            "text/html": [
              "<div>\n",
              "<style scoped>\n",
              "    .dataframe tbody tr th:only-of-type {\n",
              "        vertical-align: middle;\n",
              "    }\n",
              "\n",
              "    .dataframe tbody tr th {\n",
              "        vertical-align: top;\n",
              "    }\n",
              "\n",
              "    .dataframe thead th {\n",
              "        text-align: right;\n",
              "    }\n",
              "</style>\n",
              "<table border=\"1\" class=\"dataframe\">\n",
              "  <thead>\n",
              "    <tr style=\"text-align: right;\">\n",
              "      <th></th>\n",
              "      <th>company</th>\n",
              "      <th>href</th>\n",
              "      <th>id</th>\n",
              "      <th>name</th>\n",
              "      <th>location.city</th>\n",
              "      <th>location.country</th>\n",
              "      <th>location.latitude</th>\n",
              "      <th>location.longitude</th>\n",
              "      <th>source</th>\n",
              "      <th>gbfs_href</th>\n",
              "      <th>license.name</th>\n",
              "      <th>license.url</th>\n",
              "    </tr>\n",
              "  </thead>\n",
              "  <tbody>\n",
              "    <tr>\n",
              "      <th>0</th>\n",
              "      <td>[ЗАО «СитиБайк»]</td>\n",
              "      <td>/v2/networks/velobike-moscow</td>\n",
              "      <td>velobike-moscow</td>\n",
              "      <td>Velobike</td>\n",
              "      <td>Moscow</td>\n",
              "      <td>RU</td>\n",
              "      <td>55.750000</td>\n",
              "      <td>37.616667</td>\n",
              "      <td>NaN</td>\n",
              "      <td>NaN</td>\n",
              "      <td>NaN</td>\n",
              "      <td>NaN</td>\n",
              "    </tr>\n",
              "    <tr>\n",
              "      <th>1</th>\n",
              "      <td>[Gobike A/S]</td>\n",
              "      <td>/v2/networks/bycyklen</td>\n",
              "      <td>bycyklen</td>\n",
              "      <td>Bycyklen</td>\n",
              "      <td>Copenhagen</td>\n",
              "      <td>DK</td>\n",
              "      <td>55.673582</td>\n",
              "      <td>12.564984</td>\n",
              "      <td>NaN</td>\n",
              "      <td>NaN</td>\n",
              "      <td>NaN</td>\n",
              "      <td>NaN</td>\n",
              "    </tr>\n",
              "    <tr>\n",
              "      <th>2</th>\n",
              "      <td>[Gobike A/S]</td>\n",
              "      <td>/v2/networks/nu-connect</td>\n",
              "      <td>nu-connect</td>\n",
              "      <td>Nu-Connect</td>\n",
              "      <td>Utrecht</td>\n",
              "      <td>NL</td>\n",
              "      <td>52.117000</td>\n",
              "      <td>5.067000</td>\n",
              "      <td>NaN</td>\n",
              "      <td>NaN</td>\n",
              "      <td>NaN</td>\n",
              "      <td>NaN</td>\n",
              "    </tr>\n",
              "    <tr>\n",
              "      <th>3</th>\n",
              "      <td>[Urban Infrastructure Partner]</td>\n",
              "      <td>/v2/networks/baerum-bysykkel</td>\n",
              "      <td>baerum-bysykkel</td>\n",
              "      <td>Bysykkel</td>\n",
              "      <td>Bærum</td>\n",
              "      <td>NO</td>\n",
              "      <td>59.894550</td>\n",
              "      <td>10.546343</td>\n",
              "      <td>NaN</td>\n",
              "      <td>NaN</td>\n",
              "      <td>NaN</td>\n",
              "      <td>NaN</td>\n",
              "    </tr>\n",
              "    <tr>\n",
              "      <th>4</th>\n",
              "      <td>[Gobike A/S]</td>\n",
              "      <td>/v2/networks/bysykkelen</td>\n",
              "      <td>bysykkelen</td>\n",
              "      <td>Bysykkelen</td>\n",
              "      <td>Stavanger</td>\n",
              "      <td>NO</td>\n",
              "      <td>58.969975</td>\n",
              "      <td>5.733107</td>\n",
              "      <td>NaN</td>\n",
              "      <td>NaN</td>\n",
              "      <td>NaN</td>\n",
              "      <td>NaN</td>\n",
              "    </tr>\n",
              "    <tr>\n",
              "      <th>...</th>\n",
              "      <td>...</td>\n",
              "      <td>...</td>\n",
              "      <td>...</td>\n",
              "      <td>...</td>\n",
              "      <td>...</td>\n",
              "      <td>...</td>\n",
              "      <td>...</td>\n",
              "      <td>...</td>\n",
              "      <td>...</td>\n",
              "      <td>...</td>\n",
              "      <td>...</td>\n",
              "      <td>...</td>\n",
              "    </tr>\n",
              "    <tr>\n",
              "      <th>640</th>\n",
              "      <td>[Nextbike GmbH]</td>\n",
              "      <td>/v2/networks/nextbike-odesa</td>\n",
              "      <td>nextbike-odesa</td>\n",
              "      <td>Nextbike</td>\n",
              "      <td>Odesa</td>\n",
              "      <td>UA</td>\n",
              "      <td>46.467200</td>\n",
              "      <td>30.716400</td>\n",
              "      <td>NaN</td>\n",
              "      <td>NaN</td>\n",
              "      <td>NaN</td>\n",
              "      <td>NaN</td>\n",
              "    </tr>\n",
              "    <tr>\n",
              "      <th>641</th>\n",
              "      <td>[Nextbike GmbH]</td>\n",
              "      <td>/v2/networks/nextbike-alvsjo</td>\n",
              "      <td>nextbike-alvsjo</td>\n",
              "      <td>Nextbike</td>\n",
              "      <td>Älvsjö</td>\n",
              "      <td>DE</td>\n",
              "      <td>59.274500</td>\n",
              "      <td>18.005000</td>\n",
              "      <td>NaN</td>\n",
              "      <td>NaN</td>\n",
              "      <td>NaN</td>\n",
              "      <td>NaN</td>\n",
              "    </tr>\n",
              "    <tr>\n",
              "      <th>642</th>\n",
              "      <td>[Nextbike GmbH]</td>\n",
              "      <td>/v2/networks/nextbike-wittenberge</td>\n",
              "      <td>nextbike-wittenberge</td>\n",
              "      <td>Nextbike</td>\n",
              "      <td>Wittenberge</td>\n",
              "      <td>DE</td>\n",
              "      <td>52.995200</td>\n",
              "      <td>11.751700</td>\n",
              "      <td>NaN</td>\n",
              "      <td>NaN</td>\n",
              "      <td>NaN</td>\n",
              "      <td>NaN</td>\n",
              "    </tr>\n",
              "    <tr>\n",
              "      <th>643</th>\n",
              "      <td>[Nextbike GmbH]</td>\n",
              "      <td>/v2/networks/frelo-freiburg</td>\n",
              "      <td>frelo-freiburg</td>\n",
              "      <td>Frelo</td>\n",
              "      <td>Freiburg</td>\n",
              "      <td>DE</td>\n",
              "      <td>47.995800</td>\n",
              "      <td>7.844530</td>\n",
              "      <td>NaN</td>\n",
              "      <td>NaN</td>\n",
              "      <td>NaN</td>\n",
              "      <td>NaN</td>\n",
              "    </tr>\n",
              "    <tr>\n",
              "      <th>644</th>\n",
              "      <td>[Comunicare S.r.l.]</td>\n",
              "      <td>/v2/networks/bicincitta-trieste</td>\n",
              "      <td>bicincitta-trieste</td>\n",
              "      <td>BiTS</td>\n",
              "      <td>Trieste</td>\n",
              "      <td>IT</td>\n",
              "      <td>45.649500</td>\n",
              "      <td>13.776800</td>\n",
              "      <td>http://www.bicincitta.com/frmLeStazioni.aspx?I...</td>\n",
              "      <td>NaN</td>\n",
              "      <td>NaN</td>\n",
              "      <td>NaN</td>\n",
              "    </tr>\n",
              "  </tbody>\n",
              "</table>\n",
              "<p>645 rows × 12 columns</p>\n",
              "</div>"
            ],
            "text/plain": [
              "                            company  ... license.url\n",
              "0                  [ЗАО «СитиБайк»]  ...         NaN\n",
              "1                      [Gobike A/S]  ...         NaN\n",
              "2                      [Gobike A/S]  ...         NaN\n",
              "3    [Urban Infrastructure Partner]  ...         NaN\n",
              "4                      [Gobike A/S]  ...         NaN\n",
              "..                              ...  ...         ...\n",
              "640                 [Nextbike GmbH]  ...         NaN\n",
              "641                 [Nextbike GmbH]  ...         NaN\n",
              "642                 [Nextbike GmbH]  ...         NaN\n",
              "643                 [Nextbike GmbH]  ...         NaN\n",
              "644             [Comunicare S.r.l.]  ...         NaN\n",
              "\n",
              "[645 rows x 12 columns]"
            ]
          },
          "metadata": {
            "tags": []
          },
          "execution_count": 19
        }
      ]
    },
    {
      "cell_type": "markdown",
      "metadata": {
        "id": "BRgPl6o9eZ4u",
        "colab_type": "text"
      },
      "source": [
        "# Question 1\n",
        "\n",
        "Find all cities with bike share programs in the United States (country code \"US\"), along with their network ID (for example, \"ford-gobike\"). How many cities in the U.S. have bike share programs (at least that are in this API)?"
      ]
    },
    {
      "cell_type": "code",
      "metadata": {
        "id": "ihJwkU70sMDb",
        "colab_type": "code",
        "outputId": "9473c961-30ce-4017-ee97-b32718beb65a",
        "colab": {
          "base_uri": "https://localhost:8080/",
          "height": 384
        }
      },
      "source": [
        "q1.head()"
      ],
      "execution_count": 0,
      "outputs": [
        {
          "output_type": "execute_result",
          "data": {
            "text/html": [
              "<div>\n",
              "<style scoped>\n",
              "    .dataframe tbody tr th:only-of-type {\n",
              "        vertical-align: middle;\n",
              "    }\n",
              "\n",
              "    .dataframe tbody tr th {\n",
              "        vertical-align: top;\n",
              "    }\n",
              "\n",
              "    .dataframe thead th {\n",
              "        text-align: right;\n",
              "    }\n",
              "</style>\n",
              "<table border=\"1\" class=\"dataframe\">\n",
              "  <thead>\n",
              "    <tr style=\"text-align: right;\">\n",
              "      <th></th>\n",
              "      <th>company</th>\n",
              "      <th>href</th>\n",
              "      <th>id</th>\n",
              "      <th>name</th>\n",
              "      <th>location.city</th>\n",
              "      <th>location.country</th>\n",
              "      <th>location.latitude</th>\n",
              "      <th>location.longitude</th>\n",
              "      <th>source</th>\n",
              "      <th>gbfs_href</th>\n",
              "      <th>license.name</th>\n",
              "      <th>license.url</th>\n",
              "    </tr>\n",
              "  </thead>\n",
              "  <tbody>\n",
              "    <tr>\n",
              "      <th>75</th>\n",
              "      <td>[PBSC, Alta Bicycle Share, Inc]</td>\n",
              "      <td>/v2/networks/we-cycle</td>\n",
              "      <td>we-cycle</td>\n",
              "      <td>WE-cycle</td>\n",
              "      <td>Aspen, CO</td>\n",
              "      <td>US</td>\n",
              "      <td>39.194951</td>\n",
              "      <td>-106.837002</td>\n",
              "      <td>NaN</td>\n",
              "      <td>https://asp.publicbikesystem.net/ube/gbfs/v1/g...</td>\n",
              "      <td>NaN</td>\n",
              "      <td>NaN</td>\n",
              "    </tr>\n",
              "    <tr>\n",
              "      <th>132</th>\n",
              "      <td>[Clean Energy Coalition, BCycle, LLC]</td>\n",
              "      <td>/v2/networks/arborbike</td>\n",
              "      <td>arborbike</td>\n",
              "      <td>ArborBike</td>\n",
              "      <td>Ann Arbor, MI</td>\n",
              "      <td>US</td>\n",
              "      <td>42.278530</td>\n",
              "      <td>-83.745360</td>\n",
              "      <td>NaN</td>\n",
              "      <td>https://gbfs.bcycle.com/bcycle_arborbike/gbfs....</td>\n",
              "      <td>NaN</td>\n",
              "      <td>NaN</td>\n",
              "    </tr>\n",
              "    <tr>\n",
              "      <th>135</th>\n",
              "      <td>[BCycle, LLC]</td>\n",
              "      <td>/v2/networks/austin</td>\n",
              "      <td>austin</td>\n",
              "      <td>Austin B-cycle</td>\n",
              "      <td>Austin, TX</td>\n",
              "      <td>US</td>\n",
              "      <td>30.264080</td>\n",
              "      <td>-97.743550</td>\n",
              "      <td>NaN</td>\n",
              "      <td>https://gbfs.bcycle.com/bcycle_austin/gbfs.json</td>\n",
              "      <td>NaN</td>\n",
              "      <td>NaN</td>\n",
              "    </tr>\n",
              "    <tr>\n",
              "      <th>136</th>\n",
              "      <td>[Motivate International, Inc, PBSC]</td>\n",
              "      <td>/v2/networks/bike-chattanooga</td>\n",
              "      <td>bike-chattanooga</td>\n",
              "      <td>Bike Chattanooga</td>\n",
              "      <td>Chattanooga, TN</td>\n",
              "      <td>US</td>\n",
              "      <td>35.045630</td>\n",
              "      <td>-85.309680</td>\n",
              "      <td>NaN</td>\n",
              "      <td>https://chat.publicbikesystem.net/ube/gbfs/v1/</td>\n",
              "      <td>NaN</td>\n",
              "      <td>NaN</td>\n",
              "    </tr>\n",
              "    <tr>\n",
              "      <th>139</th>\n",
              "      <td>[Portland Bureau of Transportation (PBOT), Mot...</td>\n",
              "      <td>/v2/networks/biketown</td>\n",
              "      <td>biketown</td>\n",
              "      <td>BIKETOWN</td>\n",
              "      <td>Portland, OR</td>\n",
              "      <td>US</td>\n",
              "      <td>45.521754</td>\n",
              "      <td>-122.681079</td>\n",
              "      <td>NaN</td>\n",
              "      <td>http://biketownpdx.socialbicycles.com/opendata...</td>\n",
              "      <td>NaN</td>\n",
              "      <td>NaN</td>\n",
              "    </tr>\n",
              "  </tbody>\n",
              "</table>\n",
              "</div>"
            ],
            "text/plain": [
              "                                               company  ... license.url\n",
              "75                     [PBSC, Alta Bicycle Share, Inc]  ...         NaN\n",
              "132              [Clean Energy Coalition, BCycle, LLC]  ...         NaN\n",
              "135                                      [BCycle, LLC]  ...         NaN\n",
              "136                [Motivate International, Inc, PBSC]  ...         NaN\n",
              "139  [Portland Bureau of Transportation (PBOT), Mot...  ...         NaN\n",
              "\n",
              "[5 rows x 12 columns]"
            ]
          },
          "metadata": {
            "tags": []
          },
          "execution_count": 9
        }
      ]
    },
    {
      "cell_type": "code",
      "metadata": {
        "id": "g94_C-YrL6-J",
        "colab_type": "code",
        "outputId": "c86fcb92-e293-4c8a-8b19-80f0e21bbf03",
        "colab": {
          "base_uri": "https://localhost:8080/",
          "height": 34
        }
      },
      "source": [
        "q1 = df[df[\"location.country\"] == \"US\"]\n",
        "q1[\"location.city\"].nunique()"
      ],
      "execution_count": 0,
      "outputs": [
        {
          "output_type": "execute_result",
          "data": {
            "text/plain": [
              "64"
            ]
          },
          "metadata": {
            "tags": []
          },
          "execution_count": 8
        }
      ]
    },
    {
      "cell_type": "markdown",
      "metadata": {
        "id": "5z8U2vdtPFMN",
        "colab_type": "text"
      },
      "source": [
        "64 cities have bike share programs in the US "
      ]
    },
    {
      "cell_type": "markdown",
      "metadata": {
        "id": "23oXCLzyeZ40",
        "colab_type": "text"
      },
      "source": [
        "# Question 2\n",
        "\n",
        "Construct a `DataFrame` containing data about all bike stations in all networks in the United States. Save this `DataFrame` to disk using `.to_csv()`. (You will need it in Part B of this lab.)\n",
        "\n",
        "Use this `DataFrame` to determine the total number of bicycles in bike share programs across the United States? You may assume that the number of bikes at a station is the number of empty spaces, plus the number of available bikes."
      ]
    },
    {
      "cell_type": "code",
      "metadata": {
        "id": "4QAKwZWNPmo3",
        "colab_type": "code",
        "colab": {}
      },
      "source": [
        "url = \"http://api.citybik.es/v2/networks/network_id\""
      ],
      "execution_count": 0,
      "outputs": []
    },
    {
      "cell_type": "code",
      "metadata": {
        "id": "T1NNGDMjPk2g",
        "colab_type": "code",
        "colab": {}
      },
      "source": [
        "response = requests.get(url)"
      ],
      "execution_count": 0,
      "outputs": []
    },
    {
      "cell_type": "code",
      "metadata": {
        "id": "YTalCuRHRVGm",
        "colab_type": "code",
        "colab": {}
      },
      "source": [
        "import time\n",
        "\n",
        "us = []\n",
        "for city_id in q1[\"id\"]:\n",
        "    \n",
        "    # get the episodes for the show from the REST API\n",
        "    response = requests.get(\"http://api.citybik.es/v2/networks/%s\" % city_id)\n",
        "    us.append(response.json())\n",
        "    \n",
        "    # add a 0.5 second delay between each query\n",
        "    time.sleep(0.5)\n",
        "    \n",
        "# Now we have a list of episodes in JSON format.\n",
        "# We can convert this to a DataFrame of episodes using json_normalize."
      ],
      "execution_count": 0,
      "outputs": []
    },
    {
      "cell_type": "code",
      "metadata": {
        "id": "vflsOiMees3J",
        "colab_type": "code",
        "outputId": "fb8e923b-e459-4559-f084-45574e2bf721",
        "colab": {
          "base_uri": "https://localhost:8080/",
          "height": 810
        }
      },
      "source": [
        "df_2 = json_normalize([item['network'] for item in us], 'stations', meta='id', meta_prefix='network', errors=\"ignore\")\n",
        "df_2"
      ],
      "execution_count": 0,
      "outputs": [
        {
          "output_type": "execute_result",
          "data": {
            "text/html": [
              "<div>\n",
              "<style scoped>\n",
              "    .dataframe tbody tr th:only-of-type {\n",
              "        vertical-align: middle;\n",
              "    }\n",
              "\n",
              "    .dataframe tbody tr th {\n",
              "        vertical-align: top;\n",
              "    }\n",
              "\n",
              "    .dataframe thead th {\n",
              "        text-align: right;\n",
              "    }\n",
              "</style>\n",
              "<table border=\"1\" class=\"dataframe\">\n",
              "  <thead>\n",
              "    <tr style=\"text-align: right;\">\n",
              "      <th></th>\n",
              "      <th>empty_slots</th>\n",
              "      <th>free_bikes</th>\n",
              "      <th>id</th>\n",
              "      <th>latitude</th>\n",
              "      <th>longitude</th>\n",
              "      <th>name</th>\n",
              "      <th>timestamp</th>\n",
              "      <th>extra.address</th>\n",
              "      <th>extra.last_updated</th>\n",
              "      <th>extra.renting</th>\n",
              "      <th>extra.returning</th>\n",
              "      <th>extra.uid</th>\n",
              "      <th>extra.bike_uids</th>\n",
              "      <th>extra.number</th>\n",
              "      <th>extra.slots</th>\n",
              "      <th>networkid</th>\n",
              "    </tr>\n",
              "  </thead>\n",
              "  <tbody>\n",
              "    <tr>\n",
              "      <th>0</th>\n",
              "      <td>2.0</td>\n",
              "      <td>3</td>\n",
              "      <td>de99fa376a6ff38db656affe33d40e52</td>\n",
              "      <td>39.380066</td>\n",
              "      <td>-107.081968</td>\n",
              "      <td>Evans Rd</td>\n",
              "      <td>2020-03-02T05:22:32.985000Z</td>\n",
              "      <td>Basalt</td>\n",
              "      <td>1.572298e+09</td>\n",
              "      <td>1.0</td>\n",
              "      <td>1.0</td>\n",
              "      <td>1482</td>\n",
              "      <td>NaN</td>\n",
              "      <td>NaN</td>\n",
              "      <td>NaN</td>\n",
              "      <td>we-cycle</td>\n",
              "    </tr>\n",
              "    <tr>\n",
              "      <th>1</th>\n",
              "      <td>8.0</td>\n",
              "      <td>0</td>\n",
              "      <td>c7fddca9c7f33987a59095d9fa1dba04</td>\n",
              "      <td>39.191600</td>\n",
              "      <td>-106.823000</td>\n",
              "      <td>Hotel Aspen</td>\n",
              "      <td>2020-03-02T05:22:32.995000Z</td>\n",
              "      <td>Aspen</td>\n",
              "      <td>1.572470e+09</td>\n",
              "      <td>0.0</td>\n",
              "      <td>1.0</td>\n",
              "      <td>1480</td>\n",
              "      <td>NaN</td>\n",
              "      <td>NaN</td>\n",
              "      <td>NaN</td>\n",
              "      <td>we-cycle</td>\n",
              "    </tr>\n",
              "    <tr>\n",
              "      <th>2</th>\n",
              "      <td>6.0</td>\n",
              "      <td>0</td>\n",
              "      <td>edd6bdd575f305389a942010c19b3fd0</td>\n",
              "      <td>39.359289</td>\n",
              "      <td>-107.023232</td>\n",
              "      <td>Roaring Fork Club Employee Housing</td>\n",
              "      <td>2020-03-02T05:22:32.996000Z</td>\n",
              "      <td>Basalt</td>\n",
              "      <td>1.572385e+09</td>\n",
              "      <td>0.0</td>\n",
              "      <td>1.0</td>\n",
              "      <td>1485</td>\n",
              "      <td>NaN</td>\n",
              "      <td>NaN</td>\n",
              "      <td>NaN</td>\n",
              "      <td>we-cycle</td>\n",
              "    </tr>\n",
              "    <tr>\n",
              "      <th>3</th>\n",
              "      <td>7.0</td>\n",
              "      <td>0</td>\n",
              "      <td>b7130e6c2093f16d6462e6c778db62f4</td>\n",
              "      <td>39.188670</td>\n",
              "      <td>-106.850827</td>\n",
              "      <td>Aspen Recreation Center</td>\n",
              "      <td>2020-03-02T05:22:32.997000Z</td>\n",
              "      <td>Aspen</td>\n",
              "      <td>1.572464e+09</td>\n",
              "      <td>0.0</td>\n",
              "      <td>1.0</td>\n",
              "      <td>1443</td>\n",
              "      <td>NaN</td>\n",
              "      <td>NaN</td>\n",
              "      <td>NaN</td>\n",
              "      <td>we-cycle</td>\n",
              "    </tr>\n",
              "    <tr>\n",
              "      <th>4</th>\n",
              "      <td>10.0</td>\n",
              "      <td>1</td>\n",
              "      <td>041409c38a1cc57e8a0c49b5ef8458fe</td>\n",
              "      <td>39.394798</td>\n",
              "      <td>-107.095600</td>\n",
              "      <td>Sopris View</td>\n",
              "      <td>2020-03-02T05:22:32.999000Z</td>\n",
              "      <td>Basalt</td>\n",
              "      <td>1.572378e+09</td>\n",
              "      <td>0.0</td>\n",
              "      <td>1.0</td>\n",
              "      <td>1421</td>\n",
              "      <td>NaN</td>\n",
              "      <td>NaN</td>\n",
              "      <td>NaN</td>\n",
              "      <td>we-cycle</td>\n",
              "    </tr>\n",
              "    <tr>\n",
              "      <th>...</th>\n",
              "      <td>...</td>\n",
              "      <td>...</td>\n",
              "      <td>...</td>\n",
              "      <td>...</td>\n",
              "      <td>...</td>\n",
              "      <td>...</td>\n",
              "      <td>...</td>\n",
              "      <td>...</td>\n",
              "      <td>...</td>\n",
              "      <td>...</td>\n",
              "      <td>...</td>\n",
              "      <td>...</td>\n",
              "      <td>...</td>\n",
              "      <td>...</td>\n",
              "      <td>...</td>\n",
              "      <td>...</td>\n",
              "    </tr>\n",
              "    <tr>\n",
              "      <th>5668</th>\n",
              "      <td>3.0</td>\n",
              "      <td>3</td>\n",
              "      <td>a7a14d5f2cb56bae5aa825f88f13e0a9</td>\n",
              "      <td>40.771747</td>\n",
              "      <td>-74.038253</td>\n",
              "      <td>Applied Housing</td>\n",
              "      <td>2020-03-02T05:22:55.461000Z</td>\n",
              "      <td>NaN</td>\n",
              "      <td>NaN</td>\n",
              "      <td>NaN</td>\n",
              "      <td>NaN</td>\n",
              "      <td>8650453</td>\n",
              "      <td>[73213, 73279, 73776]</td>\n",
              "      <td>1989</td>\n",
              "      <td>6.0</td>\n",
              "      <td>jerseybike-north-bergen</td>\n",
              "    </tr>\n",
              "    <tr>\n",
              "      <th>5669</th>\n",
              "      <td>0.0</td>\n",
              "      <td>4</td>\n",
              "      <td>36c6627d7ad58656abf75f9ab13c6a27</td>\n",
              "      <td>40.797553</td>\n",
              "      <td>-73.998183</td>\n",
              "      <td>Braddock Park South</td>\n",
              "      <td>2020-03-02T05:22:55.462000Z</td>\n",
              "      <td>NaN</td>\n",
              "      <td>NaN</td>\n",
              "      <td>NaN</td>\n",
              "      <td>NaN</td>\n",
              "      <td>8650478</td>\n",
              "      <td>[73563, 73409, 73760, 73637]</td>\n",
              "      <td>1985</td>\n",
              "      <td>4.0</td>\n",
              "      <td>jerseybike-north-bergen</td>\n",
              "    </tr>\n",
              "    <tr>\n",
              "      <th>5670</th>\n",
              "      <td>3.0</td>\n",
              "      <td>3</td>\n",
              "      <td>a7c41e6021ca966e92e620ae765a4054</td>\n",
              "      <td>40.809077</td>\n",
              "      <td>-74.001292</td>\n",
              "      <td>Braddock Park North</td>\n",
              "      <td>2020-03-02T05:22:55.463000Z</td>\n",
              "      <td>NaN</td>\n",
              "      <td>NaN</td>\n",
              "      <td>NaN</td>\n",
              "      <td>NaN</td>\n",
              "      <td>8650486</td>\n",
              "      <td>[73219, 73755, 73641]</td>\n",
              "      <td>1986</td>\n",
              "      <td>6.0</td>\n",
              "      <td>jerseybike-north-bergen</td>\n",
              "    </tr>\n",
              "    <tr>\n",
              "      <th>5671</th>\n",
              "      <td>NaN</td>\n",
              "      <td>8</td>\n",
              "      <td>84a596a3e5879bc668deb1f848b9d353</td>\n",
              "      <td>40.707994</td>\n",
              "      <td>-74.035445</td>\n",
              "      <td>Liberty State Park North---Central Railroad (V...</td>\n",
              "      <td>2020-03-02T05:24:47.960000Z</td>\n",
              "      <td>NaN</td>\n",
              "      <td>NaN</td>\n",
              "      <td>NaN</td>\n",
              "      <td>NaN</td>\n",
              "      <td>449810</td>\n",
              "      <td>[73222, 73196, 73169, 73305, 73278, 73260, 737...</td>\n",
              "      <td>1934</td>\n",
              "      <td>NaN</td>\n",
              "      <td>jerseybike-liberty-state-park</td>\n",
              "    </tr>\n",
              "    <tr>\n",
              "      <th>5672</th>\n",
              "      <td>NaN</td>\n",
              "      <td>10</td>\n",
              "      <td>1e161ebd274b313f390b17a6e60d1d9a</td>\n",
              "      <td>40.693196</td>\n",
              "      <td>-74.057390</td>\n",
              "      <td>Liberty State Park South---Flag Plaza (Virtual)</td>\n",
              "      <td>2020-03-02T05:24:47.963000Z</td>\n",
              "      <td>NaN</td>\n",
              "      <td>NaN</td>\n",
              "      <td>NaN</td>\n",
              "      <td>NaN</td>\n",
              "      <td>449811</td>\n",
              "      <td>[73206, 73120, 73085, 73083, 73076, 73011, 732...</td>\n",
              "      <td>1932</td>\n",
              "      <td>NaN</td>\n",
              "      <td>jerseybike-liberty-state-park</td>\n",
              "    </tr>\n",
              "  </tbody>\n",
              "</table>\n",
              "<p>5673 rows × 16 columns</p>\n",
              "</div>"
            ],
            "text/plain": [
              "      empty_slots  free_bikes  ... extra.slots                      networkid\n",
              "0             2.0           3  ...         NaN                       we-cycle\n",
              "1             8.0           0  ...         NaN                       we-cycle\n",
              "2             6.0           0  ...         NaN                       we-cycle\n",
              "3             7.0           0  ...         NaN                       we-cycle\n",
              "4            10.0           1  ...         NaN                       we-cycle\n",
              "...           ...         ...  ...         ...                            ...\n",
              "5668          3.0           3  ...         6.0        jerseybike-north-bergen\n",
              "5669          0.0           4  ...         4.0        jerseybike-north-bergen\n",
              "5670          3.0           3  ...         6.0        jerseybike-north-bergen\n",
              "5671          NaN           8  ...         NaN  jerseybike-liberty-state-park\n",
              "5672          NaN          10  ...         NaN  jerseybike-liberty-state-park\n",
              "\n",
              "[5673 rows x 16 columns]"
            ]
          },
          "metadata": {
            "tags": []
          },
          "execution_count": 14
        }
      ]
    },
    {
      "cell_type": "code",
      "metadata": {
        "id": "PBrPs9K-gisp",
        "colab_type": "code",
        "colab": {}
      },
      "source": [
        "us[0]"
      ],
      "execution_count": 0,
      "outputs": []
    },
    {
      "cell_type": "code",
      "metadata": {
        "id": "Fu8Z6I-flZoN",
        "colab_type": "code",
        "colab": {}
      },
      "source": [
        "df_2.to_csv('drive/My Drive/dataframe.csv')"
      ],
      "execution_count": 0,
      "outputs": []
    },
    {
      "cell_type": "markdown",
      "metadata": {
        "id": "mPJ5B3qceZ45",
        "colab_type": "text"
      },
      "source": [
        "# Question 3\n",
        "\n",
        "You have just finished touring Coit Tower in San Francisco, which is located at latitude 37.802747 and longitude -122.405861. Using your `DataFrame` from Question 2, find the nearest bike station with an available bike, based on taxicab distance (a.k.a. Manhattan distance).\n",
        "\n",
        "_Hint:_ You can check your answer using Google Maps!"
      ]
    },
    {
      "cell_type": "code",
      "metadata": {
        "id": "RKHVyJ_3YjTs",
        "colab_type": "code",
        "colab": {}
      },
      "source": [
        "# from sklearn.preprocessing import StandardScaler\n",
        "\n",
        "# scaler = StandardScaler()\n",
        "# scaler.fit(df_2)\n",
        "# df_2_st = scaler.transform(df_2)\n",
        "\n",
        "lats = df_2.latitude\n",
        "longs = df_2.longitude\n",
        "\n",
        "total1 = ((lats - 37.803).abs())\n",
        "total2 = ((longs - -122.405).abs())\n",
        "total = total1+total2"
      ],
      "execution_count": 0,
      "outputs": []
    },
    {
      "cell_type": "code",
      "metadata": {
        "id": "G8q-3JKMaVH5",
        "colab_type": "code",
        "outputId": "ed792a91-1c44-4ed8-e675-1151371cfe69",
        "colab": {
          "base_uri": "https://localhost:8080/",
          "height": 34
        }
      },
      "source": [
        "total.idxmin()"
      ],
      "execution_count": 0,
      "outputs": [
        {
          "output_type": "execute_result",
          "data": {
            "text/plain": [
              "4823"
            ]
          },
          "metadata": {
            "tags": []
          },
          "execution_count": 17
        }
      ]
    },
    {
      "cell_type": "code",
      "metadata": {
        "id": "uFOUUokzaYTt",
        "colab_type": "code",
        "outputId": "802e3e5e-d31d-4c10-e1e2-dce708f59ca6",
        "colab": {
          "base_uri": "https://localhost:8080/",
          "height": 318
        }
      },
      "source": [
        "df_2.iloc[4823]"
      ],
      "execution_count": 0,
      "outputs": [
        {
          "output_type": "execute_result",
          "data": {
            "text/plain": [
              "empty_slots                                          5\n",
              "free_bikes                                          17\n",
              "id                    28754859653e0a656ba53e1fa0ea21db\n",
              "latitude                                       37.8048\n",
              "longitude                                     -122.403\n",
              "name                     The Embarcadero at Sansome St\n",
              "timestamp                  2020-03-02T05:26:22.019000Z\n",
              "extra.address                                     None\n",
              "extra.last_updated                         1.58313e+09\n",
              "extra.renting                                        1\n",
              "extra.returning                                      1\n",
              "extra.uid                                            6\n",
              "extra.bike_uids                                    NaN\n",
              "extra.number                                       NaN\n",
              "extra.slots                                        NaN\n",
              "networkid                                  ford-gobike\n",
              "Name: 4823, dtype: object"
            ]
          },
          "metadata": {
            "tags": []
          },
          "execution_count": 18
        }
      ]
    },
    {
      "cell_type": "markdown",
      "metadata": {
        "colab_type": "text",
        "id": "IKBO_9EyYK0v"
      },
      "source": [
        "## Submission Instructions\n",
        "\n",
        "- Restart this notebook and run the cells from beginning to end. \n",
        "  - Go to Runtime > Restart and Run All.\n",
        "- Rename this notebook by clicking on \"DATA 301 Lab 5A - YOUR NAMES HERE\" at the very top of this page. Replace \"YOUR NAMES HERE\" with the first and last names of you and your partner (if you worked with one).\n",
        "- Share the notebook with `data301labs@gmail.com`, giving commenting rights.\n",
        "  - Click on \"Share\" at the top-right. \n",
        "  - Type in the `data301labs@gmail.com` into the box that appears. \n",
        "  - Click on the pencil at the right-hand side and change it from \"Can edit\" to \"Can comment\". \n",
        "  - Make sure the \"Notify people\" box in the bottom right is checked. \n",
        "  - Click the \"Done\" button."
      ]
    }
  ]
}